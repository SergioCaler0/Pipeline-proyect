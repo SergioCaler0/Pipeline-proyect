{
 "cells": [
  {
   "cell_type": "markdown",
   "metadata": {},
   "source": [
    "# PIPELINES PROJECT DATABASE POKEMON"
   ]
  },
  {
   "cell_type": "markdown",
   "metadata": {},
   "source": [
    "### Introducción"
   ]
  },
  {
   "cell_type": "markdown",
   "metadata": {},
   "source": [
    "El objetivo de este proyecto es enriquecer un dataset de kaggle extrayendo informacion de una web mediante una de las dos tecnicas aprendidas esta semana en clase: busqueda mediante una APIm o haciendo scraping a una web\n",
    "\n",
    "El tema que he elegido son las estadisticas de los pokemon. Con ellas quiero demostrar que tipo de pokemon es mas comun en este mundo ademas de saber cuales son mas fuertes, resistentes o veloces.\n",
    "\n",
    "El mundo de los pokemon esta compuesto por mas de 800 de estas criaturas, cada unha con sus tipos y estadisticas base que van cambiando cuando evolucionan."
   ]
  },
  {
   "cell_type": "markdown",
   "metadata": {},
   "source": [
    "### Web scraping"
   ]
  },
  {
   "cell_type": "markdown",
   "metadata": {},
   "source": [
    "Gracias a esta tecnica he podido entrar en la pagina de pokemon y coger los datos que necesitaba para enriquecer los datos que he descargado de kaggle."
   ]
  },
  {
   "cell_type": "markdown",
   "metadata": {},
   "source": [
    "Tras la exploracion y visualizacion de los datos he podido llegar a varias coclusiones."
   ]
  },
  {
   "cell_type": "markdown",
   "metadata": {},
   "source": [
    "#### Proceso"
   ]
  },
  {
   "cell_type": "markdown",
   "metadata": {},
   "source": [
    "- Descarga de dataset\n",
    "- Busqueda de informacion en la web\n",
    "- Aplicar scraping a la web para obtener los datos\n",
    "- Montar un dataset con los datos obtenidos de la web\n",
    "- Limpiar el dataset descargado\n",
    "- Utilizar los dos dataset para visualizar los datos"
   ]
  },
  {
   "cell_type": "code",
   "execution_count": null,
   "metadata": {},
   "outputs": [],
   "source": []
  }
 ],
 "metadata": {
  "kernelspec": {
   "display_name": "Python 3",
   "language": "python",
   "name": "python3"
  },
  "language_info": {
   "codemirror_mode": {
    "name": "ipython",
    "version": 3
   },
   "file_extension": ".py",
   "mimetype": "text/x-python",
   "name": "python",
   "nbconvert_exporter": "python",
   "pygments_lexer": "ipython3",
   "version": "3.8.5"
  }
 },
 "nbformat": 4,
 "nbformat_minor": 4
}
